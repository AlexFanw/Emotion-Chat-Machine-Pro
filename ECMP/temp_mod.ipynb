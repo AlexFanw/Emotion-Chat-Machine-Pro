{
 "cells": [
  {
   "cell_type": "markdown",
   "metadata": {},
   "source": [
    "# 添加jieba模块"
   ]
  },
  {
   "cell_type": "code",
   "execution_count": 8,
   "metadata": {},
   "outputs": [
    {
     "name": "stdout",
     "output_type": "stream",
     "text": [
      "我 爱 中国\n"
     ]
    }
   ],
   "source": [
    "import jieba\n",
    "s = jieba.lcut(\"我爱中国\")\n",
    "print(' '.join(s))"
   ]
  },
  {
   "cell_type": "code",
   "execution_count": null,
   "metadata": {},
   "outputs": [],
   "source": []
  }
 ],
 "metadata": {
  "kernelspec": {
   "display_name": "Python 3.5.6 64-bit ('EACM': conda)",
   "name": "python356jvsc74a57bd04928cc23e204c22f0d69e219836093e0aca79f1fa7a87e64f61dfccc36570b27"
  },
  "language_info": {
   "codemirror_mode": {
    "name": "ipython",
    "version": 3
   },
   "file_extension": ".py",
   "mimetype": "text/x-python",
   "name": "python",
   "nbconvert_exporter": "python",
   "pygments_lexer": "ipython3",
   "version": "3.5.6"
  },
  "metadata": {
   "interpreter": {
    "hash": "4928cc23e204c22f0d69e219836093e0aca79f1fa7a87e64f61dfccc36570b27"
   }
  },
  "orig_nbformat": 2
 },
 "nbformat": 4,
 "nbformat_minor": 2
}
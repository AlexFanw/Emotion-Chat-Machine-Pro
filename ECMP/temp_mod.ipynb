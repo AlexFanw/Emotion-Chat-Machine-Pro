{
 "cells": [
  {
   "cell_type": "markdown",
   "metadata": {},
   "source": [
    "# 添加jieba模块"
   ]
  },
  {
   "cell_type": "code",
   "execution_count": 8,
   "metadata": {},
   "outputs": [
    {
     "name": "stdout",
     "output_type": "stream",
     "text": [
      "我 爱 中国\n"
     ]
    }
   ],
   "source": [
    "import jieba\n",
    "s = jieba.lcut(\"我爱中国\")\n",
    "print(' '.join(s))"
   ]
  },
  {
   "cell_type": "markdown",
   "metadata": {},
   "source": [
    "# 预训练模块"
   ]
  },
  {
   "cell_type": "code",
   "execution_count": 5,
   "metadata": {},
   "outputs": [],
   "source": [
    "from __future__ import absolute_import, division, print_function, unicode_literals\n",
    "\n",
    "# !pip install tf-nightly-2.0-preview\n",
    "import tensorflow as tf\n",
    "import tensorflow.keras\n",
    "from tensorflow.keras import layers\n",
    "\n",
    "\n",
    "# Embedding层至少需要两个参数： \n",
    "# 词汇表中可能的单词数量，这里是1000（1+最大单词索引）； \n",
    "# embeddings的维数，这里是32.。\n",
    "embedding_layer = layers.Embedding(1000, 32)"
   ]
  },
  {
   "cell_type": "code",
   "execution_count": 16,
   "metadata": {},
   "outputs": [
    {
     "name": "stdout",
     "output_type": "stream",
     "text": [
      "1\n"
     ]
    }
   ],
   "source": [
    "vocab_size = 10000\n",
    "imdb = keras.datasets.imdb\n",
    "(train_data, train_labels), (test_data, test_labels) = imdb.load_data(num_words=vocab_size)\n",
    "\n",
    "print(train_labels[0])"
   ]
  },
  {
   "cell_type": "code",
   "execution_count": 7,
   "metadata": {},
   "outputs": [
    {
     "name": "stdout",
     "output_type": "stream",
     "text": [
      "Downloading data from https://storage.googleapis.com/tensorflow/tf-keras-datasets/imdb_word_index.json\n",
      "1646592/1641221 [==============================] - 1s 0us/step\n"
     ]
    },
    {
     "data": {
      "text/plain": "\"<START> this film was just brilliant casting location scenery story direction everyone's really suited the part they played and you could just imagine being there robert <UNK> is an amazing actor and now the same being director <UNK> father came from the same scottish island as myself so i loved the fact there was a real connection with this film the witty remarks throughout the film were great it was just brilliant so much that i bought the film as soon as it was released for <UNK> and would recommend it to everyone to watch and the fly fishing was amazing really cried at the end it was so sad and you know what they say if you cry at a film it must have been good and this definitely was also <UNK> to the two little boy's that played the <UNK> of norman and paul they were just brilliant children are often left out of the <UNK> list i think because the stars that play them all grown up are such a big profile for the whole film but these children are amazing and should be praised for what they have done don't you think the whole story was so lovely because it was true and was someone's life after all that was shared with us all\""
     },
     "execution_count": 7,
     "metadata": {},
     "output_type": "execute_result"
    }
   ],
   "source": [
    "# 将单词映射到整数索引的字典\n",
    "word_index = imdb.get_word_index()\n",
    "\n",
    "# 第一个指数是保留的\n",
    "word_index = {k:(v+3) for k,v in word_index.items()}\n",
    "word_index[\"<PAD>\"] = 0\n",
    "word_index[\"<START>\"] = 1\n",
    "word_index[\"<UNK>\"] = 2  # unknown\n",
    "word_index[\"<UNUSED>\"] = 3\n",
    "\n",
    "reverse_word_index = dict([(value, key) for (key, value) in word_index.items()])\n",
    "\n",
    "def decode_review(text):\n",
    "    return ' '.join([reverse_word_index.get(i, '?') for i in text])\n",
    "\n",
    "decode_review(train_data[0])"
   ]
  },
  {
   "cell_type": "code",
   "execution_count": 9,
   "metadata": {},
   "outputs": [
    {
     "name": "stdout",
     "output_type": "stream",
     "text": [
      "[   1   14   22   16   43  530  973 1622 1385   65  458 4468   66 3941\n",
      "    4  173   36  256    5   25  100   43  838  112   50  670    2    9\n",
      "   35  480  284    5  150    4  172  112  167    2  336  385   39    4\n",
      "  172 4536 1111   17  546   38   13  447    4  192   50   16    6  147\n",
      " 2025   19   14   22    4 1920 4613  469    4   22   71   87   12   16\n",
      "   43  530   38   76   15   13 1247    4   22   17  515   17   12   16\n",
      "  626   18    2    5   62  386   12    8  316    8  106    5    4 2223\n",
      " 5244   16  480   66 3785   33    4  130   12   16   38  619    5   25\n",
      "  124   51   36  135   48   25 1415   33    6   22   12  215   28   77\n",
      "   52    5   14  407   16   82    2    8    4  107  117 5952   15  256\n",
      "    4    2    7 3766    5  723   36   71   43  530  476   26  400  317\n",
      "   46    7    4    2 1029   13  104   88    4  381   15  297   98   32\n",
      " 2071   56   26  141    6  194 7486   18    4  226   22   21  134  476\n",
      "   26  480    5  144   30 5535   18   51   36   28  224   92   25  104\n",
      "    4  226   65   16   38 1334   88   12   16  283    5   16 4472  113\n",
      "  103   32   15   16 5345   19  178   32    0    0    0    0    0    0\n",
      "    0    0    0    0    0    0    0    0    0    0    0    0    0    0\n",
      "    0    0    0    0    0    0    0    0    0    0    0    0    0    0\n",
      "    0    0    0    0    0    0    0    0    0    0    0    0    0    0\n",
      "    0    0    0    0    0    0    0    0    0    0    0    0    0    0\n",
      "    0    0    0    0    0    0    0    0    0    0    0    0    0    0\n",
      "    0    0    0    0    0    0    0    0    0    0    0    0    0    0\n",
      "    0    0    0    0    0    0    0    0    0    0    0    0    0    0\n",
      "    0    0    0    0    0    0    0    0    0    0    0    0    0    0\n",
      "    0    0    0    0    0    0    0    0    0    0    0    0    0    0\n",
      "    0    0    0    0    0    0    0    0    0    0    0    0    0    0\n",
      "    0    0    0    0    0    0    0    0    0    0    0    0    0    0\n",
      "    0    0    0    0    0    0    0    0    0    0    0    0    0    0\n",
      "    0    0    0    0    0    0    0    0    0    0    0    0    0    0\n",
      "    0    0    0    0    0    0    0    0    0    0    0    0    0    0\n",
      "    0    0    0    0    0    0    0    0    0    0    0    0    0    0\n",
      "    0    0    0    0    0    0    0    0    0    0    0    0    0    0\n",
      "    0    0    0    0    0    0    0    0    0    0    0    0    0    0\n",
      "    0    0    0    0    0    0    0    0    0    0    0    0    0    0\n",
      "    0    0    0    0    0    0    0    0    0    0    0    0    0    0\n",
      "    0    0    0    0    0    0    0    0    0    0]\n"
     ]
    }
   ],
   "source": [
    "maxlen = 500\n",
    "\n",
    "train_data = keras.preprocessing.sequence.pad_sequences(train_data,\n",
    "                                                        value=word_index[\"<PAD>\"],\n",
    "                                                        padding='post',\n",
    "                                                        maxlen=maxlen)\n",
    "\n",
    "test_data = keras.preprocessing.sequence.pad_sequences(test_data,\n",
    "                                                       value=word_index[\"<PAD>\"],\n",
    "                                                       padding='post',\n",
    "                                                       maxlen=maxlen)\n",
    "\n",
    "print(train_data[0]) "
   ]
  },
  {
   "cell_type": "code",
   "execution_count": 10,
   "metadata": {},
   "outputs": [
    {
     "name": "stdout",
     "output_type": "stream",
     "text": [
      "Model: \"sequential\"\n",
      "_________________________________________________________________\n",
      "Layer (type)                 Output Shape              Param #   \n",
      "=================================================================\n",
      "embedding_1 (Embedding)      (None, 500, 16)           160000    \n",
      "_________________________________________________________________\n",
      "global_average_pooling1d (Gl (None, 16)                0         \n",
      "_________________________________________________________________\n",
      "dense (Dense)                (None, 16)                272       \n",
      "_________________________________________________________________\n",
      "dense_1 (Dense)              (None, 1)                 17        \n",
      "=================================================================\n",
      "Total params: 160,289\n",
      "Trainable params: 160,289\n",
      "Non-trainable params: 0\n",
      "_________________________________________________________________\n"
     ]
    }
   ],
   "source": [
    "embedding_dim=16\n",
    "\n",
    "model = keras.Sequential([\n",
    "  layers.Embedding(vocab_size, embedding_dim, input_length=maxlen),\n",
    "  layers.GlobalAveragePooling1D(),\n",
    "  layers.Dense(16, activation='relu'),\n",
    "  layers.Dense(1, activation='sigmoid')\n",
    "])\n",
    "\n",
    "model.summary()"
   ]
  },
  {
   "cell_type": "code",
   "execution_count": 11,
   "metadata": {},
   "outputs": [
    {
     "name": "stdout",
     "output_type": "stream",
     "text": [
      "Epoch 1/30\n",
      "40/40 [==============================] - 1s 18ms/step - loss: 0.6926 - accuracy: 0.5170 - val_loss: 0.6895 - val_accuracy: 0.6876\n",
      "Epoch 2/30\n",
      "40/40 [==============================] - 0s 12ms/step - loss: 0.6873 - accuracy: 0.6717 - val_loss: 0.6784 - val_accuracy: 0.6984\n",
      "Epoch 3/30\n",
      "40/40 [==============================] - 0s 11ms/step - loss: 0.6730 - accuracy: 0.6943 - val_loss: 0.6552 - val_accuracy: 0.7480\n",
      "Epoch 4/30\n",
      "40/40 [==============================] - 0s 12ms/step - loss: 0.6468 - accuracy: 0.7469 - val_loss: 0.6200 - val_accuracy: 0.7744\n",
      "Epoch 5/30\n",
      "40/40 [==============================] - 0s 12ms/step - loss: 0.6082 - accuracy: 0.7776 - val_loss: 0.5760 - val_accuracy: 0.7940\n",
      "Epoch 6/30\n",
      "40/40 [==============================] - 0s 12ms/step - loss: 0.5592 - accuracy: 0.8082 - val_loss: 0.5280 - val_accuracy: 0.8202\n",
      "Epoch 7/30\n",
      "40/40 [==============================] - 0s 12ms/step - loss: 0.5078 - accuracy: 0.8379 - val_loss: 0.4827 - val_accuracy: 0.8340\n",
      "Epoch 8/30\n",
      "40/40 [==============================] - 1s 14ms/step - loss: 0.4607 - accuracy: 0.8515 - val_loss: 0.4423 - val_accuracy: 0.8512\n",
      "Epoch 9/30\n",
      "40/40 [==============================] - 1s 17ms/step - loss: 0.4162 - accuracy: 0.8666 - val_loss: 0.4095 - val_accuracy: 0.8606\n",
      "Epoch 10/30\n",
      "40/40 [==============================] - 1s 17ms/step - loss: 0.3838 - accuracy: 0.8755 - val_loss: 0.3832 - val_accuracy: 0.8666\n",
      "Epoch 11/30\n",
      "40/40 [==============================] - 0s 12ms/step - loss: 0.3482 - accuracy: 0.8905 - val_loss: 0.3615 - val_accuracy: 0.8690\n",
      "Epoch 12/30\n",
      "40/40 [==============================] - 0s 12ms/step - loss: 0.3227 - accuracy: 0.8942 - val_loss: 0.3461 - val_accuracy: 0.8690\n",
      "Epoch 13/30\n",
      "40/40 [==============================] - 1s 13ms/step - loss: 0.2991 - accuracy: 0.8996 - val_loss: 0.3317 - val_accuracy: 0.8766\n",
      "Epoch 14/30\n",
      "40/40 [==============================] - 1s 14ms/step - loss: 0.2827 - accuracy: 0.9059 - val_loss: 0.3211 - val_accuracy: 0.8802\n",
      "Epoch 15/30\n",
      "40/40 [==============================] - 1s 14ms/step - loss: 0.2647 - accuracy: 0.9110 - val_loss: 0.3121 - val_accuracy: 0.8794\n",
      "Epoch 16/30\n",
      "40/40 [==============================] - 1s 16ms/step - loss: 0.2531 - accuracy: 0.9116 - val_loss: 0.3056 - val_accuracy: 0.8828\n",
      "Epoch 17/30\n",
      "40/40 [==============================] - 1s 16ms/step - loss: 0.2400 - accuracy: 0.9184 - val_loss: 0.3063 - val_accuracy: 0.8780\n",
      "Epoch 18/30\n",
      "40/40 [==============================] - 1s 16ms/step - loss: 0.2284 - accuracy: 0.9235 - val_loss: 0.2952 - val_accuracy: 0.8870\n",
      "Epoch 19/30\n",
      "40/40 [==============================] - 1s 15ms/step - loss: 0.2170 - accuracy: 0.9231 - val_loss: 0.2915 - val_accuracy: 0.8880\n",
      "Epoch 20/30\n",
      "40/40 [==============================] - 1s 13ms/step - loss: 0.2097 - accuracy: 0.9282 - val_loss: 0.2891 - val_accuracy: 0.8890\n",
      "Epoch 21/30\n",
      "40/40 [==============================] - 1s 13ms/step - loss: 0.2021 - accuracy: 0.9332 - val_loss: 0.2860 - val_accuracy: 0.8914\n",
      "Epoch 22/30\n",
      "40/40 [==============================] - 1s 14ms/step - loss: 0.1927 - accuracy: 0.9332 - val_loss: 0.2840 - val_accuracy: 0.8918\n",
      "Epoch 23/30\n",
      "40/40 [==============================] - 1s 20ms/step - loss: 0.1909 - accuracy: 0.9340 - val_loss: 0.2829 - val_accuracy: 0.8910\n",
      "Epoch 24/30\n",
      "40/40 [==============================] - 1s 13ms/step - loss: 0.1794 - accuracy: 0.9401 - val_loss: 0.2822 - val_accuracy: 0.8892\n",
      "Epoch 25/30\n",
      "40/40 [==============================] - 1s 13ms/step - loss: 0.1710 - accuracy: 0.9437 - val_loss: 0.2828 - val_accuracy: 0.8892\n",
      "Epoch 26/30\n",
      "40/40 [==============================] - 0s 12ms/step - loss: 0.1669 - accuracy: 0.9464 - val_loss: 0.2809 - val_accuracy: 0.8904\n",
      "Epoch 27/30\n",
      "40/40 [==============================] - 0s 12ms/step - loss: 0.1596 - accuracy: 0.9450 - val_loss: 0.2822 - val_accuracy: 0.8900\n",
      "Epoch 28/30\n",
      "40/40 [==============================] - 1s 13ms/step - loss: 0.1557 - accuracy: 0.9483 - val_loss: 0.2813 - val_accuracy: 0.8926\n",
      "Epoch 29/30\n",
      "40/40 [==============================] - 1s 13ms/step - loss: 0.1545 - accuracy: 0.9482 - val_loss: 0.2829 - val_accuracy: 0.8918\n",
      "Epoch 30/30\n",
      "40/40 [==============================] - 1s 13ms/step - loss: 0.1469 - accuracy: 0.9535 - val_loss: 0.2841 - val_accuracy: 0.8914\n"
     ]
    }
   ],
   "source": [
    "model.compile(optimizer='adam',\n",
    "              loss='binary_crossentropy',\n",
    "              metrics=['accuracy'])\n",
    "\n",
    "history = model.fit(\n",
    "    train_data,\n",
    "    train_labels,\n",
    "    epochs=30,\n",
    "    batch_size=512,\n",
    "    validation_split=0.2)"
   ]
  },
  {
   "cell_type": "code",
   "execution_count": 13,
   "metadata": {},
   "outputs": [
    {
     "data": {
      "image/png": "[encoded data removed]",
      "text/plain": "<Figure size 864x648 with 1 Axes>"
     },
     "metadata": {
      "needs_background": "light"
     },
     "output_type": "display_data"
    }
   ],
   "source": [
    "import matplotlib.pyplot as plt\n",
    "\n",
    "acc = history.history['accuracy']\n",
    "val_acc = history.history['val_accuracy']\n",
    "\n",
    "epochs = range(1, len(acc) + 1)\n",
    "\n",
    "plt.figure(figsize=(12,9))\n",
    "plt.plot(epochs, acc, 'bo', label='Training acc')\n",
    "plt.plot(epochs, val_acc, 'b', label='Validation acc')\n",
    "plt.title('Training and validation accuracy')\n",
    "plt.xlabel('Epochs')\n",
    "plt.ylabel('Accuracy')\n",
    "plt.legend(loc='lower right')\n",
    "plt.ylim((0.5,1))\n",
    "\n",
    "plt.show()"
   ]
  },
  {
   "cell_type": "code",
   "execution_count": null,
   "metadata": {},
   "outputs": [],
   "source": []
  }
 ],
 "metadata": {
  "kernelspec": {
   "display_name": "Python 3.7.10 64-bit ('PreTrain': conda)",
   "name": "python3710jvsc74a57bd03ce07e1c0ae126c68cd0ec6ecd2674e2f85acf92ef9aa7b9f55727a2261d6873"
  },
  "language_info": {
   "codemirror_mode": {
    "name": "ipython",
    "version": 3
   },
   "file_extension": ".py",
   "mimetype": "text/x-python",
   "name": "python",
   "nbconvert_exporter": "python",
   "pygments_lexer": "ipython3",
   "version": "3.7.10"
  },
  "metadata": {
   "interpreter": {
    "hash": "3ce07e1c0ae126c68cd0ec6ecd2674e2f85acf92ef9aa7b9f55727a2261d6873"
   }
  },
  "orig_nbformat": 2
 },
 "nbformat": 4,
 "nbformat_minor": 2
}